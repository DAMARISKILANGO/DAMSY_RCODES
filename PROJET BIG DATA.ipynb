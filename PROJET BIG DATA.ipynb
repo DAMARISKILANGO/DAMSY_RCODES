{
 "cells": [
  {
   "cell_type": "markdown",
   "metadata": {},
   "source": [
    "                                                   Projet\n",
    " \n",
    " Part1: Data Analysis\n",
    " 1. Answer Each Part\n",
    " 2. Copie et Poste Output for each part\n",
    " 3. Interpret/ Comment on results of each part \n",
    " Submit an overall summary of results       \n",
    " \n",
    " Part 2: Big Data\n",
    " 1. Give a brief description of the model you want to use \n",
    " 2. Explanin in details how training et validation sets are obtained\n",
    " 3. Copy and Paste code / outputs of each and interpret result with GRAPHS \n",
    " 4. Give an overall summary of your findings, TAKE HONE MESSAGE.\n",
    " "
   ]
  },
  {
   "cell_type": "code",
   "execution_count": null,
   "metadata": {
    "collapsed": true
   },
   "outputs": [],
   "source": []
  }
 ],
 "metadata": {
  "kernelspec": {
   "display_name": "R",
   "language": "R",
   "name": "ir"
  },
  "language_info": {
   "codemirror_mode": "r",
   "file_extension": ".r",
   "mimetype": "text/x-r-source",
   "name": "R",
   "pygments_lexer": "r",
   "version": "3.4.4"
  }
 },
 "nbformat": 4,
 "nbformat_minor": 2
}
